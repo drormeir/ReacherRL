{
 "cells": [
  {
   "cell_type": "code",
   "execution_count": 1,
   "metadata": {},
   "outputs": [
    {
     "data": {
      "text/html": [
       "<style>.container { width:100% !important; }</style>"
      ],
      "text/plain": [
       "<IPython.core.display.HTML object>"
      ]
     },
     "metadata": {},
     "output_type": "display_data"
    },
    {
     "name": "stderr",
     "output_type": "stream",
     "text": [
      "INFO:unityagents:\n",
      "'Academy' started successfully!\n",
      "Unity Academy name: Academy\n",
      "        Number of Brains: 1\n",
      "        Number of External Brains : 1\n",
      "        Lesson number : 0\n",
      "        Reset Parameters :\n",
      "\t\tgoal_speed -> 1.0\n",
      "\t\tgoal_size -> 5.0\n",
      "Unity brain name: ReacherBrain\n",
      "        Number of Visual Observations (per agent): 0\n",
      "        Vector Observation space type: continuous\n",
      "        Vector Observation space size (per agent): 33\n",
      "        Number of stacked Vector Observation: 1\n",
      "        Vector Action space type: continuous\n",
      "        Vector Action space size (per agent): 4\n",
      "        Vector Action descriptions: , , , \n"
     ]
    },
    {
     "name": "stdout",
     "output_type": "stream",
     "text": [
      "Selected brain name:  ReacherBrain\n",
      "Selected brain:       Unity brain name: ReacherBrain\n",
      "        Number of Visual Observations (per agent): 0\n",
      "        Vector Observation space type: continuous\n",
      "        Vector Observation space size (per agent): 33\n",
      "        Number of stacked Vector Observation: 1\n",
      "        Vector Action space type: continuous\n",
      "        Vector Action space size (per agent): 4\n",
      "        Vector Action descriptions: , , , \n",
      "Number of actions:    4\n",
      "Number of agents:     1\n",
      "States look like:     [ 0.00000000e+00 -4.00000000e+00  0.00000000e+00  1.00000000e+00\n",
      " -0.00000000e+00 -0.00000000e+00 -4.37113883e-08  0.00000000e+00\n",
      "  0.00000000e+00  0.00000000e+00  0.00000000e+00  0.00000000e+00\n",
      "  0.00000000e+00  0.00000000e+00 -1.00000000e+01  0.00000000e+00\n",
      "  1.00000000e+00 -0.00000000e+00 -0.00000000e+00 -4.37113883e-08\n",
      "  0.00000000e+00  0.00000000e+00  0.00000000e+00  0.00000000e+00\n",
      "  0.00000000e+00  0.00000000e+00  5.75471878e+00 -1.00000000e+00\n",
      "  5.55726671e+00  0.00000000e+00  1.00000000e+00  0.00000000e+00\n",
      " -1.68164849e-01]\n",
      "States have length:   33\n",
      "Initializing DDPG_Agent with PyTorch device named: cpu\n",
      "replay_buffer_size = 1000000\n",
      "replay_batch_size  = 128\n",
      "random_seed        = 1\n",
      "gamma              = 0.95\n",
      "tau                = 0.001\n",
      "update_every       = 20\n",
      "update_times       = 4\n",
      "lr_actor           = 0.0001\n",
      "lr_critic          = 0.001\n",
      "actor_clip_grad    = None\n",
      "critic_clip_grad   = None\n",
      "noise_sigma        = 0.2\n",
      "noise_theta        = 0.15\n",
      "no_reward_value    = -0.1\n",
      "no_reward_dropout  = 0.9\n",
      "actor_arch         = ['b', 128, 'b', 'r', 256, 'b', 'r']\n",
      "critic_arch        = [['b', 128], ['b', 64], ['b', 'r', 256, 'b', 'r']]\n",
      "Agent: Test on single episode starts...\n",
      "Agent: Test on single episode is over. Number of steps: 1001  score: 59.10\n",
      "episode_score= 59.10000000000057\n"
     ]
    }
   ],
   "source": [
    "from IPython.core.display import display, HTML\n",
    "display(HTML(\"<style>.container { width:100% !important; }</style>\"))\n",
    "\n",
    "import numpy as np\n",
    "import matplotlib.pyplot as plt\n",
    "%matplotlib inline\n",
    "\n",
    "from unity_environment_wrapper import unity_env\n",
    "from DDPG_agent import DDPG_Agent\n",
    "\n",
    "env = unity_env(file_name=\"Reacher_Windows_x86_64/Reacher.exe\", no_graphics=False, verbose_level=1)\n",
    "\n",
    "agent = DDPG_Agent(state_size = env.state_size, action_size = env.action_size,\\\n",
    "                   random_seed=1,\\\n",
    "                   replay_buffer_size = int(1e6),\\\n",
    "                   replay_batch_size =128,\\\n",
    "                   update_every=20,\\\n",
    "                   update_times=4,\\\n",
    "                   lr_actor=1e-4,\\\n",
    "                   lr_critic=1e-3,\\\n",
    "                   noise_sigma=0.2,\\\n",
    "                   noise_theta=0.15,\\\n",
    "                   no_reward_dropout  = 0.9,\\\n",
    "                   no_reward_value = -0.1,\\\n",
    "                   actor_arch = ['b',128,'b','r',256,'b','r'],\\\n",
    "                   critic_arch = [['b',128],['b',64],['b','r',256,'b','r']],\\\n",
    "                   gamma = 0.95,\\\n",
    "                   use_cuda=False, verbose_level=2)\n",
    "\n",
    "agent.load(\"results\")\n",
    "\n",
    "episode_score = env.test_agent_on_single_episode(agent)\n",
    "print(\"episode_score=\",episode_score)"
   ]
  },
  {
   "cell_type": "code",
   "execution_count": null,
   "metadata": {},
   "outputs": [],
   "source": []
  },
  {
   "cell_type": "code",
   "execution_count": null,
   "metadata": {},
   "outputs": [],
   "source": []
  },
  {
   "cell_type": "code",
   "execution_count": null,
   "metadata": {},
   "outputs": [],
   "source": []
  }
 ],
 "metadata": {
  "kernelspec": {
   "display_name": "drlnd",
   "language": "python",
   "name": "drlnd"
  },
  "language_info": {
   "codemirror_mode": {
    "name": "ipython",
    "version": 3
   },
   "file_extension": ".py",
   "mimetype": "text/x-python",
   "name": "python",
   "nbconvert_exporter": "python",
   "pygments_lexer": "ipython3",
   "version": "3.6.10"
  }
 },
 "nbformat": 4,
 "nbformat_minor": 4
}
